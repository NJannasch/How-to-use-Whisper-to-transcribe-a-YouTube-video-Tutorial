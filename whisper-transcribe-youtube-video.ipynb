{
 "cells": [
  {
   "cell_type": "markdown",
   "metadata": {},
   "source": [
    "# How to use Whisper to transcribe a YouTube video - Tutorial\n",
    "In this tutorial you will learn how to use OpenAIs Whisper to transcribe a YouTube video\n",
    "\n",
    "[Written guide](https://lablab.ai/t/whisper-transcribe-youtube-video)"
   ]
  },
  {
   "cell_type": "markdown",
   "metadata": {},
   "source": [
    "# Installing pytube libary\n",
    "\n",
    "!pip install -— upgrade pytube"
   ]
  },
  {
   "cell_type": "code",
   "execution_count": null,
   "metadata": {},
   "outputs": [],
   "source": [
    "#Importing Pytube library\n",
    "import pytube\n",
    "\n",
    "# Reading the above Taken movie Youtube link\n",
    "video = \"https://www.youtube.com/watch?v=x7X9w_GIm1s\"\n",
    "data = pytube.YouTube(video)\n",
    "\n",
    "# Converting and downloading as 'MP4' file\n",
    "audio = data.streams.get_audio_only()\n",
    "audio.download()"
   ]
  },
  {
   "cell_type": "markdown",
   "metadata": {},
   "source": [
    "# Installing Whisper libary\n",
    "\n",
    "!pip install git+https://github.com/openai/whisper.git -q"
   ]
  },
  {
   "cell_type": "code",
   "execution_count": null,
   "metadata": {},
   "outputs": [],
   "source": [
    "import whisper\n",
    "\n",
    "model = whisper.load_model(\"base\")\n",
    "text = model.transcribe(\"Python in 100 Seconds.mp4\")\n",
    "\n",
    "#printing the transcribe\n",
    "text['text']\n"
   ]
  },
  {
   "cell_type": "markdown",
   "metadata": {},
   "source": [
    "---\n",
    "\n",
    "[![Artificial Intelligence Hackathons, tutorials and Boilerplates](https://storage.googleapis.com/lablab-static-eu/images/github/lablab-banner.jpg)](https://lablab.ai)\n",
    "\n",
    "## Join the LabLab Discord\n",
    "\n",
    "![Discord Banner 1](https://discordapp.com/api/guilds/877056448956346408/widget.png?style=banner1)  \n",
    "On lablab discord, we discuss this repo and many other topics related to artificial intelligence! Checkout upcoming [Artificial Intelligence Hackathons](https://lablab.ai) Event\n",
    "\n",
    "\n",
    "[![Acclerating innovation through acceleration](https://storage.googleapis.com/lablab-static-eu/images/github/nn-group-loggos.jpg)](https://newnative.ai)"
   ]
  }
 ],
 "metadata": {
  "kernelspec": {
   "display_name": "Python 3.9.10 64-bit ('3.9.10')",
   "language": "python",
   "name": "python3"
  },
  "language_info": {
   "name": "python",
   "version": "3.9.10"
  },
  "orig_nbformat": 4,
  "vscode": {
   "interpreter": {
    "hash": "5f2b7f47b40a0323768661785fe68343240b4a21a6fca652a093e05d0e616507"
   }
  }
 },
 "nbformat": 4,
 "nbformat_minor": 2
}
